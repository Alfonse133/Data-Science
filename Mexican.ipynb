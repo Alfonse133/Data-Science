{
  "nbformat": 4,
  "nbformat_minor": 0,
  "metadata": {
    "colab": {
      "provenance": [],
      "authorship_tag": "ABX9TyONfcwhshKkYCJKDRZ3s/dG",
      "include_colab_link": true
    },
    "kernelspec": {
      "name": "python3",
      "display_name": "Python 3"
    },
    "language_info": {
      "name": "python"
    }
  },
  "cells": [
    {
      "cell_type": "markdown",
      "metadata": {
        "id": "view-in-github",
        "colab_type": "text"
      },
      "source": [
        "<a href=\"https://colab.research.google.com/github/Alfonse133/Data-Science/blob/Main-Learning/Mexican.ipynb\" target=\"_parent\"><img src=\"https://colab.research.google.com/assets/colab-badge.svg\" alt=\"Open In Colab\"/></a>"
      ]
    },
    {
      "cell_type": "markdown",
      "source": [
        "#This is a test\n",
        "This is test on mexican project"
      ],
      "metadata": {
        "id": "hpqFqvjL1b1i"
      }
    },
    {
      "cell_type": "code",
      "source": [
        "(1+2**2)**(1+1)*2"
      ],
      "metadata": {
        "colab": {
          "base_uri": "https://localhost:8080/"
        },
        "id": "bHLBw2g1WR4u",
        "outputId": "c3a99fe0-a0c3-4a97-e167-b7bea6ef2c1c"
      },
      "execution_count": null,
      "outputs": [
        {
          "output_type": "execute_result",
          "data": {
            "text/plain": [
              "50"
            ]
          },
          "metadata": {},
          "execution_count": 9
        }
      ]
    },
    {
      "cell_type": "code",
      "source": [
        "# Area of a circle\n",
        "import math as mt\n",
        "def area_of_a_circle(r):\n",
        "  try:\n",
        "    area=mt.pi*r**2\n",
        "    return area\n",
        "  except:\n",
        "    print('There is an error!')"
      ],
      "metadata": {
        "id": "TmBudsEK9Cvc"
      },
      "execution_count": 13,
      "outputs": []
    },
    {
      "cell_type": "code",
      "source": [
        "area_of_a_circle(7)"
      ],
      "metadata": {
        "colab": {
          "base_uri": "https://localhost:8080/"
        },
        "id": "C7cBu7sK9h35",
        "outputId": "4da27621-6166-42ea-ae7c-239cbf404fa8"
      },
      "execution_count": 14,
      "outputs": [
        {
          "output_type": "execute_result",
          "data": {
            "text/plain": [
              "153.93804002589985"
            ]
          },
          "metadata": {},
          "execution_count": 14
        }
      ]
    }
  ]
}